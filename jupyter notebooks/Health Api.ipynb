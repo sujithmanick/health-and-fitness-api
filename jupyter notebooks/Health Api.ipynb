{
 "cells": [
  {
   "cell_type": "code",
   "execution_count": null,
   "id": "c1186d55",
   "metadata": {},
   "outputs": [],
   "source": [
    "import json\n",
    "import requests"
   ]
  },
  {
   "cell_type": "code",
   "execution_count": null,
   "id": "2124b0cf",
   "metadata": {},
   "outputs": [],
   "source": [
    "headers: {\n",
    "            'Accept': 'application/json',\n",
    "            'Content-Type': 'application/json',\n",
    "            'CSRF-Token': 'jLGe5zdg-qA0EeQOVGpxU2H35E4KkuEAz5Ew',\n",
    "        }   "
   ]
  },
  {
   "cell_type": "code",
   "execution_count": null,
   "id": "5cc6a70b",
   "metadata": {},
   "outputs": [],
   "source": [
    "webpage = requests.post('http://127.0.0.1:5000/signup', headers=headers, json=form_data)\n",
    "#headers not required"
   ]
  },
  {
   "cell_type": "code",
   "execution_count": 17,
   "id": "2d91b052",
   "metadata": {},
   "outputs": [],
   "source": [
    "form_data = {}\n",
    "form_data[\"Height-ft\"] = 6\n",
    "form_data[\"Height-in\"] = 0\n",
    "form_data[\"Height-cm\"] = 160\n",
    "form_data[\"Weight-lb\"] = 10\n",
    "form_data[\"Weight-kg\"] = 50\n",
    "form_data[\"Age\"] = 20\n",
    "form_data[\"Unit\"] = \"Metric\"\n",
    "form_data[\"Activity Level\"] = \"Sedentary\"\n",
    "form_data[\"Gender\"] = \"Male\"\n",
    "form_data[\"Goal\"] = \"Active\"\n",
    "form_data[\"Email\"] = ''\n",
    "form_data[\"Disclaimer\"] = ''\n",
    "form_data=str(form_data)\n",
    "form_data = json.dumps(form_data, indent = 4)\n",
    "form_data\n",
    "\n",
    "form_data = {\"Height-ft\":\"\",\"Height-in\":\"\",\"Height-cm\":\"160\",\"Weight-lb\":\"\",\"Weight-kg\":\"50\",\"Age\":\"20\",\"Unit\":\"Metric\",\"Activity Level\":\"Lightly Active\",\"Gender\":\"Male\",\"Goal\":\"Maintain\"}"
   ]
  },
  {
   "cell_type": "code",
   "execution_count": null,
   "id": "e1668adb",
   "metadata": {},
   "outputs": [],
   "source": [
    "webpage.content"
   ]
  },
  {
   "cell_type": "code",
   "execution_count": 3,
   "id": "ae687230",
   "metadata": {},
   "outputs": [],
   "source": [
    "'''Get Diet plans'''\n",
    "webpage = requests.get('https://www.prospre.io/meal-plans?cals=1840&p=115&f=61&c=207&diet=normal')\n"
   ]
  },
  {
   "cell_type": "code",
   "execution_count": null,
   "id": "23892e39",
   "metadata": {},
   "outputs": [],
   "source": []
  },
  {
   "cell_type": "code",
   "execution_count": 11,
   "id": "d0cd24d8",
   "metadata": {},
   "outputs": [],
   "source": [
    "from pymongo.mongo_client import MongoClient\n",
    "from pymongo.server_api import ServerApi\n",
    "\n",
    "uri = \"<temp>\"\n",
    "\n",
    "# Create a new client and connect to the server\n",
    "client = MongoClient(uri)\n"
   ]
  },
  {
   "cell_type": "code",
   "execution_count": 30,
   "id": "bd644d5d",
   "metadata": {},
   "outputs": [],
   "source": [
    "db = client.User_data\n",
    "collection = db.basic"
   ]
  },
  {
   "cell_type": "code",
   "execution_count": null,
   "id": "2c289468",
   "metadata": {},
   "outputs": [],
   "source": [
    "insert_data = collection.insert_one({\"Height-ft\":\"\",\"Height-in\":\"\",\"Height-cm\":\"160\",\"Weight-lb\":\"\",\"Weight-kg\":\"50\",\"Age\":\"20\",\"Unit\":\"Metric\",\"Activity Level\":\"Lightly Active\",\"Gender\":\"Male\",\"Goal\":\"Maintain\"})\n",
    "insert_data"
   ]
  },
  {
   "cell_type": "code",
   "execution_count": 21,
   "id": "7dca6bce",
   "metadata": {},
   "outputs": [],
   "source": [
    "collection.find_one({\"Goal\":\"Maintain\"})\n"
   ]
  },
  {
   "cell_type": "code",
   "execution_count": 20,
   "id": "af2612e0",
   "metadata": {},
   "outputs": [
    {
     "data": {
      "text/plain": [
       "<pymongo.results.UpdateResult at 0x7efce02b8640>"
      ]
     },
     "execution_count": 20,
     "metadata": {},
     "output_type": "execute_result"
    }
   ],
   "source": [
    "collection.update_one({\"Goal\":\"Maintain\"},{\"$set\":{\"Goal\":\"Gain\"}})"
   ]
  },
  {
   "cell_type": "code",
   "execution_count": null,
   "id": "fb1c3f61",
   "metadata": {},
   "outputs": [],
   "source": [
    "collection.delete_one({\"Goal\":\"Gain\"})"
   ]
  },
  {
   "cell_type": "code",
   "execution_count": null,
   "id": "69690acb",
   "metadata": {},
   "outputs": [],
   "source": [
    "collection.close"
   ]
  },
  {
   "cell_type": "code",
   "execution_count": null,
   "id": "fc6fe565",
   "metadata": {},
   "outputs": [],
   "source": [
    "db.runCommand( { \"killAllSessions\": [ ] } )"
   ]
  },
  {
   "cell_type": "code",
   "execution_count": null,
   "id": "6a4158f4",
   "metadata": {},
   "outputs": [],
   "source": []
  }
 ],
 "metadata": {
  "kernelspec": {
   "display_name": "Python 3 (ipykernel)",
   "language": "python",
   "name": "python3"
  },
  "language_info": {
   "codemirror_mode": {
    "name": "ipython",
    "version": 3
   },
   "file_extension": ".py",
   "mimetype": "text/x-python",
   "name": "python",
   "nbconvert_exporter": "python",
   "pygments_lexer": "ipython3",
   "version": "3.11.5"
  }
 },
 "nbformat": 4,
 "nbformat_minor": 5
}
