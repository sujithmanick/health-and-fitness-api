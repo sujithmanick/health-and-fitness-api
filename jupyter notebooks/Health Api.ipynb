{
 "cells": [
  {
   "cell_type": "code",
   "execution_count": 2,
   "id": "c1186d55",
   "metadata": {},
   "outputs": [],
   "source": [
    "import json\n",
    "import requests"
   ]
  },
  {
   "cell_type": "code",
   "execution_count": 16,
   "id": "2124b0cf",
   "metadata": {},
   "outputs": [],
   "source": [
    "headers: {\n",
    "            'Accept': 'application/json',\n",
    "            'Content-Type': 'application/json',\n",
    "            'CSRF-Token': 'jLGe5zdg-qA0EeQOVGpxU2H35E4KkuEAz5Ew',\n",
    "        }   "
   ]
  },
  {
   "cell_type": "code",
   "execution_count": 17,
   "id": "2d91b052",
   "metadata": {},
   "outputs": [],
   "source": [
    "form_data = {}\n",
    "form_data[\"Height-ft\"] = 6\n",
    "form_data[\"Height-in\"] = 0\n",
    "form_data[\"Height-cm\"] = 160\n",
    "form_data[\"Weight-lb\"] = 10\n",
    "form_data[\"Weight-kg\"] = 50\n",
    "form_data[\"Age\"] = 20\n",
    "form_data[\"Unit\"] = \"Metric\"\n",
    "form_data[\"Activity Level\"] = \"Sedentary\"\n",
    "form_data[\"Gender\"] = \"Male\"\n",
    "form_data[\"Goal\"] = \"Active\"\n",
    "form_data[\"Email\"] = ''\n",
    "form_data[\"Disclaimer\"] = ''\n",
    "form_data=str(form_data)\n",
    "form_data = json.dumps(form_data, indent = 4)\n",
    "form_data\n",
    "\n",
    "form_data = {\"Height-ft\":\"\",\"Height-in\":\"\",\"Height-cm\":\"160\",\"Weight-lb\":\"\",\"Weight-kg\":\"50\",\"Age\":\"20\",\"Unit\":\"Metric\",\"Activity Level\":\"Lightly Active\",\"Gender\":\"Male\",\"Goal\":\"Maintain\"}"
   ]
  },
  {
   "cell_type": "code",
   "execution_count": 20,
   "id": "5cc6a70b",
   "metadata": {},
   "outputs": [],
   "source": [
    "webpage = requests.post('https://www.prospre.io:/api/nutrient-recommendations', headers=headers, json=form_data)\n",
    "#headers not required"
   ]
  },
  {
   "cell_type": "code",
   "execution_count": 22,
   "id": "e1668adb",
   "metadata": {},
   "outputs": [
    {
     "data": {
      "text/plain": [
       "b'{\"Calcium\":1000,\"Chromium\":35,\"Copper\":0.9,\"Fluoride\":4000,\"Iron\":8,\"Magnesium\":400,\"Manganese\":2.3,\"Phosphorus\":700,\"Selenium\":55,\"Zinc\":11,\"Potassium\":3400,\"Sodium\":1500,\"Vitamin A\":900,\"Vitamin C\":90,\"Vitamin D\":300,\"Vitamin E\":15,\"Vitamin K\":120,\"Thiamin\":1.2,\"Riboflavin\":1.3,\"Niacin\":16,\"Vitamin B6\":1.3,\"Folate\":400,\"Vitamin B12\":2.4,\"Pantothenic Acid\":5,\"Choline\":550,\"Water\":3700,\"Carbohydrates\":207,\"Fat\":61,\"Linoleic Acid\":17,\"Alpha Linolenic Acid (ALA)\":1.6,\"Protein\":115,\"Fibre\":38,\"Sugar\":92,\"Saturated Fat\":20,\"Trans Fat\":2,\"Cholesterol\":300,\"Calories\":1840}'"
      ]
     },
     "execution_count": 22,
     "metadata": {},
     "output_type": "execute_result"
    }
   ],
   "source": [
    "webpage.content"
   ]
  },
  {
   "cell_type": "code",
   "execution_count": 3,
   "id": "ae687230",
   "metadata": {},
   "outputs": [],
   "source": [
    "'''Get Diet plans'''\n",
    "webpage = requests.get('https://www.prospre.io/meal-plans?cals=1840&p=115&f=61&c=207&diet=normal')\n"
   ]
  },
  {
   "cell_type": "code",
   "execution_count": null,
   "id": "23892e39",
   "metadata": {},
   "outputs": [
    {
     "name": "stdout",
     "output_type": "stream",
     "text": [
      "Collecting pymongo\n",
      "  Obtaining dependency information for pymongo from https://files.pythonhosted.org/packages/77/c8/aa46a179d476a06630cf9a5463c5edc06b938fa8894b99194ebbdc775d76/pymongo-4.5.0-cp311-cp311-manylinux_2_17_x86_64.manylinux2014_x86_64.whl.metadata\n",
      "  Downloading pymongo-4.5.0-cp311-cp311-manylinux_2_17_x86_64.manylinux2014_x86_64.whl.metadata (22 kB)\n",
      "Collecting dnspython<3.0.0,>=1.16.0 (from pymongo)\n",
      "  Obtaining dependency information for dnspython<3.0.0,>=1.16.0 from https://files.pythonhosted.org/packages/f6/b4/0a9bee52c50f226a3cbfb54263d02bb421c7f2adc136520729c2c689c1e5/dnspython-2.4.2-py3-none-any.whl.metadata\n",
      "  Downloading dnspython-2.4.2-py3-none-any.whl.metadata (4.9 kB)\n",
      "Downloading pymongo-4.5.0-cp311-cp311-manylinux_2_17_x86_64.manylinux2014_x86_64.whl (675 kB)\n",
      "\u001b[2K   \u001b[38;2;114;156;31m━━━━━━━━━━━━━━━━━━━━━━━━━━━━━━━━━━━━━━━━\u001b[0m \u001b[32m675.1/675.1 kB\u001b[0m \u001b[31m23.7 kB/s\u001b[0m eta \u001b[36m0:00:00\u001b[0m[36m0:00:01\u001b[0m[36m0:00:02\u001b[0m:04\u001b[0m\n",
      "\u001b[?25hDownloading dnspython-2.4.2-py3-none-any.whl (300 kB)\n",
      "\u001b[2K   \u001b[38;2;114;156;31m━━━━━━━━━━━━━━━━━━━━━━━━━━━━━━━━━━━━━━━━\u001b[0m \u001b[32m300.4/300.4 kB\u001b[0m \u001b[31m33.1 kB/s\u001b[0m eta \u001b[36m0:00:00\u001b[0mm eta \u001b[36m0:00:01\u001b[0m0:01\u001b[0m:02\u001b[0m\n",
      "\u001b[?25hInstalling collected packages: dnspython, pymongo\n",
      "Successfully installed dnspython-2.4.2 pymongo-4.5.0\n",
      "Note: you may need to restart the kernel to use updated packages.\n"
     ]
    }
   ],
   "source": []
  },
  {
   "cell_type": "code",
   "execution_count": 11,
   "id": "d0cd24d8",
   "metadata": {},
   "outputs": [],
   "source": [
    "from pymongo.mongo_client import MongoClient\n",
    "from pymongo.server_api import ServerApi\n",
    "\n",
    "uri = \"<temp>\"\n",
    "\n",
    "# Create a new client and connect to the server\n",
    "client = MongoClient(uri)\n"
   ]
  },
  {
   "cell_type": "code",
   "execution_count": 30,
   "id": "bd644d5d",
   "metadata": {},
   "outputs": [],
   "source": [
    "db = client.User_data\n",
    "collection = db.basic"
   ]
  },
  {
   "cell_type": "code",
   "execution_count": 22,
   "id": "2c289468",
   "metadata": {},
   "outputs": [
    {
     "data": {
      "text/plain": [
       "<pymongo.results.InsertOneResult at 0x7efcfdff3bb0>"
      ]
     },
     "execution_count": 22,
     "metadata": {},
     "output_type": "execute_result"
    }
   ],
   "source": [
    "insert_data = collection.insert_one({\"Height-ft\":\"\",\"Height-in\":\"\",\"Height-cm\":\"160\",\"Weight-lb\":\"\",\"Weight-kg\":\"50\",\"Age\":\"20\",\"Unit\":\"Metric\",\"Activity Level\":\"Lightly Active\",\"Gender\":\"Male\",\"Goal\":\"Maintain\"})\n",
    "insert_data"
   ]
  },
  {
   "cell_type": "code",
   "execution_count": 21,
   "id": "7dca6bce",
   "metadata": {},
   "outputs": [],
   "source": [
    "collection.find_one({\"Goal\":\"Maintain\"})\n"
   ]
  },
  {
   "cell_type": "code",
   "execution_count": 20,
   "id": "af2612e0",
   "metadata": {},
   "outputs": [
    {
     "data": {
      "text/plain": [
       "<pymongo.results.UpdateResult at 0x7efce02b8640>"
      ]
     },
     "execution_count": 20,
     "metadata": {},
     "output_type": "execute_result"
    }
   ],
   "source": [
    "collection.update_one({\"Goal\":\"Maintain\"},{\"$set\":{\"Goal\":\"Gain\"}})"
   ]
  },
  {
   "cell_type": "code",
   "execution_count": 24,
   "id": "fb1c3f61",
   "metadata": {},
   "outputs": [
    {
     "data": {
      "text/plain": [
       "<pymongo.results.DeleteResult at 0x7efce02baf80>"
      ]
     },
     "execution_count": 24,
     "metadata": {},
     "output_type": "execute_result"
    }
   ],
   "source": [
    "collection.delete_one({\"Goal\":\"Gain\"})"
   ]
  },
  {
   "cell_type": "code",
   "execution_count": 27,
   "id": "69690acb",
   "metadata": {},
   "outputs": [
    {
     "data": {
      "text/plain": [
       "Collection(Database(MongoClient(host=['ac-x2iu9rq-shard-00-02.srdkmes.mongodb.net:27017', 'ac-x2iu9rq-shard-00-00.srdkmes.mongodb.net:27017', 'ac-x2iu9rq-shard-00-01.srdkmes.mongodb.net:27017'], document_class=dict, tz_aware=False, connect=True, retrywrites=True, w='majority', authsource='admin', replicaset='atlas-tbc19c-shard-0', tls=True), 'User_data'), 'basic.close')"
      ]
     },
     "execution_count": 27,
     "metadata": {},
     "output_type": "execute_result"
    }
   ],
   "source": [
    "collection.close"
   ]
  },
  {
   "cell_type": "code",
   "execution_count": 31,
   "id": "fc6fe565",
   "metadata": {},
   "outputs": [
    {
     "ename": "TypeError",
     "evalue": "'Collection' object is not callable. If you meant to call the 'runCommand' method on a 'Database' object it is failing because no such method exists.",
     "output_type": "error",
     "traceback": [
      "\u001b[0;31m---------------------------------------------------------------------------\u001b[0m",
      "\u001b[0;31mTypeError\u001b[0m                                 Traceback (most recent call last)",
      "Cell \u001b[0;32mIn[31], line 1\u001b[0m\n\u001b[0;32m----> 1\u001b[0m db\u001b[38;5;241m.\u001b[39mrunCommand( { \u001b[38;5;124m\"\u001b[39m\u001b[38;5;124mkillAllSessions\u001b[39m\u001b[38;5;124m\"\u001b[39m: [ ] } )\n",
      "File \u001b[0;32m~/anaconda3/envs/workspace/lib/python3.11/site-packages/pymongo/collection.py:3503\u001b[0m, in \u001b[0;36mCollection.__call__\u001b[0;34m(self, *args, **kwargs)\u001b[0m\n\u001b[1;32m   3501\u001b[0m \u001b[38;5;250m\u001b[39m\u001b[38;5;124;03m\"\"\"This is only here so that some API misusages are easier to debug.\"\"\"\u001b[39;00m\n\u001b[1;32m   3502\u001b[0m \u001b[38;5;28;01mif\u001b[39;00m \u001b[38;5;124m\"\u001b[39m\u001b[38;5;124m.\u001b[39m\u001b[38;5;124m\"\u001b[39m \u001b[38;5;129;01mnot\u001b[39;00m \u001b[38;5;129;01min\u001b[39;00m \u001b[38;5;28mself\u001b[39m\u001b[38;5;241m.\u001b[39m__name:\n\u001b[0;32m-> 3503\u001b[0m     \u001b[38;5;28;01mraise\u001b[39;00m \u001b[38;5;167;01mTypeError\u001b[39;00m(\n\u001b[1;32m   3504\u001b[0m         \u001b[38;5;124m\"\u001b[39m\u001b[38;5;124m'\u001b[39m\u001b[38;5;124mCollection\u001b[39m\u001b[38;5;124m'\u001b[39m\u001b[38;5;124m object is not callable. If you \u001b[39m\u001b[38;5;124m\"\u001b[39m\n\u001b[1;32m   3505\u001b[0m         \u001b[38;5;124m\"\u001b[39m\u001b[38;5;124mmeant to call the \u001b[39m\u001b[38;5;124m'\u001b[39m\u001b[38;5;132;01m%s\u001b[39;00m\u001b[38;5;124m'\u001b[39m\u001b[38;5;124m method on a \u001b[39m\u001b[38;5;124m'\u001b[39m\u001b[38;5;124mDatabase\u001b[39m\u001b[38;5;124m'\u001b[39m\u001b[38;5;124m \u001b[39m\u001b[38;5;124m\"\u001b[39m\n\u001b[1;32m   3506\u001b[0m         \u001b[38;5;124m\"\u001b[39m\u001b[38;5;124mobject it is failing because no such method \u001b[39m\u001b[38;5;124m\"\u001b[39m\n\u001b[1;32m   3507\u001b[0m         \u001b[38;5;124m\"\u001b[39m\u001b[38;5;124mexists.\u001b[39m\u001b[38;5;124m\"\u001b[39m \u001b[38;5;241m%\u001b[39m \u001b[38;5;28mself\u001b[39m\u001b[38;5;241m.\u001b[39m__name\n\u001b[1;32m   3508\u001b[0m     )\n\u001b[1;32m   3509\u001b[0m \u001b[38;5;28;01mraise\u001b[39;00m \u001b[38;5;167;01mTypeError\u001b[39;00m(\n\u001b[1;32m   3510\u001b[0m     \u001b[38;5;124m\"\u001b[39m\u001b[38;5;124m'\u001b[39m\u001b[38;5;124mCollection\u001b[39m\u001b[38;5;124m'\u001b[39m\u001b[38;5;124m object is not callable. If you meant to \u001b[39m\u001b[38;5;124m\"\u001b[39m\n\u001b[1;32m   3511\u001b[0m     \u001b[38;5;124m\"\u001b[39m\u001b[38;5;124mcall the \u001b[39m\u001b[38;5;124m'\u001b[39m\u001b[38;5;132;01m%s\u001b[39;00m\u001b[38;5;124m'\u001b[39m\u001b[38;5;124m method on a \u001b[39m\u001b[38;5;124m'\u001b[39m\u001b[38;5;124mCollection\u001b[39m\u001b[38;5;124m'\u001b[39m\u001b[38;5;124m object it is \u001b[39m\u001b[38;5;124m\"\u001b[39m\n\u001b[1;32m   3512\u001b[0m     \u001b[38;5;124m\"\u001b[39m\u001b[38;5;124mfailing because no such method exists.\u001b[39m\u001b[38;5;124m\"\u001b[39m \u001b[38;5;241m%\u001b[39m \u001b[38;5;28mself\u001b[39m\u001b[38;5;241m.\u001b[39m__name\u001b[38;5;241m.\u001b[39msplit(\u001b[38;5;124m\"\u001b[39m\u001b[38;5;124m.\u001b[39m\u001b[38;5;124m\"\u001b[39m)[\u001b[38;5;241m-\u001b[39m\u001b[38;5;241m1\u001b[39m]\n\u001b[1;32m   3513\u001b[0m )\n",
      "\u001b[0;31mTypeError\u001b[0m: 'Collection' object is not callable. If you meant to call the 'runCommand' method on a 'Database' object it is failing because no such method exists."
     ]
    }
   ],
   "source": [
    "db.runCommand( { \"killAllSessions\": [ ] } )"
   ]
  },
  {
   "cell_type": "code",
   "execution_count": null,
   "id": "6a4158f4",
   "metadata": {},
   "outputs": [],
   "source": []
  }
 ],
 "metadata": {
  "kernelspec": {
   "display_name": "Python 3 (ipykernel)",
   "language": "python",
   "name": "python3"
  },
  "language_info": {
   "codemirror_mode": {
    "name": "ipython",
    "version": 3
   },
   "file_extension": ".py",
   "mimetype": "text/x-python",
   "name": "python",
   "nbconvert_exporter": "python",
   "pygments_lexer": "ipython3",
   "version": "3.11.5"
  }
 },
 "nbformat": 4,
 "nbformat_minor": 5
}
