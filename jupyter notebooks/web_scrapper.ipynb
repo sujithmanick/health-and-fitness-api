{
 "cells": [
  {
   "cell_type": "code",
   "execution_count": 3,
   "id": "85f4cc9c",
   "metadata": {},
   "outputs": [],
   "source": [
    "import requests"
   ]
  },
  {
   "cell_type": "code",
   "execution_count": 6,
   "id": "fa10a89a",
   "metadata": {},
   "outputs": [],
   "source": [
    "web_content = requests.get(\"https://www.prospre.io/meal-plans?cals=1840&p=115&f=61&c=207&diet=normal\")"
   ]
  },
  {
   "cell_type": "code",
   "execution_count": 8,
   "id": "6228fe50",
   "metadata": {},
   "outputs": [],
   "source": [
    "web_content = web_content.text"
   ]
  },
  {
   "cell_type": "code",
   "execution_count": 11,
   "id": "c7369cff",
   "metadata": {},
   "outputs": [],
   "source": [
    "from bs4 import BeautifulSoup\n",
    "soup = BeautifulSoup(web_content, 'html.parser')"
   ]
  },
  {
   "cell_type": "code",
   "execution_count": 36,
   "id": "76b0cd36",
   "metadata": {},
   "outputs": [],
   "source": [
    "data_container = soup.find_all(class_='container pt-4')[0].find_all(class_='row')[0].find_all(class_='col-lg-9 col-xl-6 px-4')[0]\n",
    "macronutrient_totals = data_container.find_all(class_='bg-white rounded-4 shadow-lg px-2 pt-3 pb-0 row mb-3')\n",
    "food =  data_container.find_all(class_='bg-white rounded-4 shadow-lg px-2 pt-3 pb-2 row mb-3')"
   ]
  },
  {
   "cell_type": "code",
   "execution_count": 40,
   "id": "393a5861",
   "metadata": {
    "scrolled": false
   },
   "outputs": [
    {
     "data": {
      "text/plain": [
       "<div class=\"bg-white rounded-4 shadow-lg px-2 pt-3 pb-2 row mb-3\">\n",
       "<div class=\"col\">\n",
       "<div class=\"row\">\n",
       "<div class=\"col\">\n",
       "<p class=\"fw-bold\">Snack</p>\n",
       "</div>\n",
       "</div>\n",
       "<div class=\"row\">\n",
       "<div class=\"col-3\">\n",
       "<p class=\"h6 text-muted\">Calories</p>\n",
       "<p class=\"fw-bold\">284</p>\n",
       "</div>\n",
       "<div class=\"col-3\">\n",
       "<p class=\"h6 text-muted\">Protein</p>\n",
       "<p class=\"fw-bold\">10.1 g</p>\n",
       "</div>\n",
       "<div class=\"col-3\">\n",
       "<p class=\"h6 text-muted\">Fat</p>\n",
       "<p class=\"fw-bold\">16.1 g</p>\n",
       "</div>\n",
       "<div class=\"col-3\">\n",
       "<p class=\"h6 text-muted\">Carbs\n",
       "<p class=\"fw-bold\">30 g</p>\n",
       "</p></div>\n",
       "</div>\n",
       "<div class=\"col-auto\" style=\"text-decoration: none;\">\n",
       "<div class=\"row align-items-center mb-2\">\n",
       "<div class=\"col-auto ps-2\">\n",
       "<img alt=\"Crackers and Peanut Butter\" loading=\"lazy\" src=\"https://images.prospre.io/RR78.jpg\" style=\"height: 80px; width: 80px; border-radius: 10px; object-fit: cover\"/>\n",
       "</div>\n",
       "<a class=\"col text-start my-auto\" href=\"/recipes/crackers-and-peanut-butter-78\">\n",
       "<h4 class=\"h6 mb-0\" style=\"color: black\">Crackers and Peanut Butter</h4>\n",
       "<p class=\"text-muted mb-0\"><small>6 Crackers</small></p>\n",
       "</a>\n",
       "<div class=\"col-auto\">\n",
       "<button aria-controls=\"78-day-7\" aria-expanded=\"false\" class=\"btn btn-sm btn-outline-secondary details-button collapsed\" data-bs-target=\"#78-day-7\" data-bs-toggle=\"collapse\" type=\"button\">\n",
       "<span class=\"if-collapsed\"><small>Details +</small></span>\n",
       "<span class=\"if-not-collapsed\"><small>Details -</small></span>\n",
       "</button>\n",
       "</div>\n",
       "</div>\n",
       "</div>\n",
       "<div class=\"collapse\" id=\"78-day-7\">\n",
       "<div class=\"card card-body mb-2\">\n",
       "<h3 class=\"h4\">Ingredients</h3>\n",
       "<ul class=\"mb-2\">\n",
       "<a href=\"https://www.prospre.io/ingredients/whole-wheat-crackers-275734\">\n",
       "<li>Whole Wheat Crackers (6 cracker)</li>\n",
       "</a>\n",
       "<a href=\"https://www.prospre.io/ingredients/smooth-peanut-butter-4498\">\n",
       "<li>Smooth Peanut Butter (1.5 tbsp)</li>\n",
       "</a>\n",
       "</ul>\n",
       "<h3 class=\"h4\">Instructions</h3>\n",
       "<ol class=\"mb-0\">\n",
       "<li>Spread peanut butter onto cracker with a butterknife and enjoy.</li>\n",
       "</ol>\n",
       "</div>\n",
       "</div>\n",
       "<div class=\"col-auto\" style=\"text-decoration: none;\">\n",
       "<div class=\"row align-items-center mb-2\">\n",
       "<div class=\"col-auto ps-2\">\n",
       "<img alt=\"Raw Cauliflower\" loading=\"lazy\" src=\"https://images.prospre.io/RR223.jpg\" style=\"height: 80px; width: 80px; border-radius: 10px; object-fit: cover\"/>\n",
       "</div>\n",
       "<a class=\"col text-start my-auto\" href=\"/recipes/raw-cauliflower-223\">\n",
       "<h4 class=\"h6 mb-0\" style=\"color: black\">Raw Cauliflower</h4>\n",
       "<p class=\"text-muted mb-0\"><small>100 g</small></p>\n",
       "</a>\n",
       "<div class=\"col-auto\">\n",
       "<button aria-controls=\"223-day-7\" aria-expanded=\"false\" class=\"btn btn-sm btn-outline-secondary details-button collapsed\" data-bs-target=\"#223-day-7\" data-bs-toggle=\"collapse\" type=\"button\">\n",
       "<span class=\"if-collapsed\"><small>Details +</small></span>\n",
       "<span class=\"if-not-collapsed\"><small>Details -</small></span>\n",
       "</button>\n",
       "</div>\n",
       "</div>\n",
       "</div>\n",
       "<div class=\"collapse\" id=\"223-day-7\">\n",
       "<div class=\"card card-body mb-2\">\n",
       "<h3 class=\"h4\">Ingredients</h3>\n",
       "<ul class=\"mb-2\">\n",
       "<a href=\"https://www.prospre.io/ingredients/cauliflower-2524\">\n",
       "<li>Cauliflower (100 g)</li>\n",
       "</a>\n",
       "</ul>\n",
       "<h3 class=\"h4\">Instructions</h3>\n",
       "<ol class=\"mb-0\">\n",
       "</ol>\n",
       "</div>\n",
       "</div>\n",
       "</div>\n",
       "</div>"
      ]
     },
     "execution_count": 40,
     "metadata": {},
     "output_type": "execute_result"
    }
   ],
   "source": [
    "food[-1]"
   ]
  },
  {
   "cell_type": "code",
   "execution_count": null,
   "id": "7bdba664",
   "metadata": {},
   "outputs": [],
   "source": []
  }
 ],
 "metadata": {
  "kernelspec": {
   "display_name": "Python 3 (ipykernel)",
   "language": "python",
   "name": "python3"
  },
  "language_info": {
   "codemirror_mode": {
    "name": "ipython",
    "version": 3
   },
   "file_extension": ".py",
   "mimetype": "text/x-python",
   "name": "python",
   "nbconvert_exporter": "python",
   "pygments_lexer": "ipython3",
   "version": "3.11.5"
  }
 },
 "nbformat": 4,
 "nbformat_minor": 5
}
